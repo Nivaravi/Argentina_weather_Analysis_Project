{
 "cells": [
  {
   "cell_type": "code",
   "execution_count": 1,
   "id": "558e982f-31a0-4e2a-8fb1-94b1bb5118d8",
   "metadata": {},
   "outputs": [],
   "source": [
    "import pandas as pd\n",
    "import matplotlib.pyplot as plt\n",
    "import seaborn as sns"
   ]
  },
  {
   "cell_type": "code",
   "execution_count": 9,
   "id": "a80a282e-15ec-438c-bd2c-94bf874f3d50",
   "metadata": {},
   "outputs": [],
   "source": [
    "# Loading dataset\n",
    "df = pd.read_csv(\"Argentina_weather_dataset.csv\")"
   ]
  },
  {
   "cell_type": "code",
   "execution_count": 15,
   "id": "9f4a1feb-a9ec-4460-adff-47da8f5897b0",
   "metadata": {},
   "outputs": [
    {
     "data": {
      "text/html": [
       "<div>\n",
       "<style scoped>\n",
       "    .dataframe tbody tr th:only-of-type {\n",
       "        vertical-align: middle;\n",
       "    }\n",
       "\n",
       "    .dataframe tbody tr th {\n",
       "        vertical-align: top;\n",
       "    }\n",
       "\n",
       "    .dataframe thead th {\n",
       "        text-align: right;\n",
       "    }\n",
       "</style>\n",
       "<table border=\"1\" class=\"dataframe\">\n",
       "  <thead>\n",
       "    <tr style=\"text-align: right;\">\n",
       "      <th></th>\n",
       "      <th>Country</th>\n",
       "      <th>Date</th>\n",
       "      <th>Temp_Max</th>\n",
       "      <th>Temp_Min</th>\n",
       "      <th>Temp_Mean</th>\n",
       "      <th>Precipitation_Sum</th>\n",
       "      <th>Windspeed_Max</th>\n",
       "      <th>Windgusts_Max</th>\n",
       "      <th>Sunshine_Duration</th>\n",
       "    </tr>\n",
       "  </thead>\n",
       "  <tbody>\n",
       "    <tr>\n",
       "      <th>0</th>\n",
       "      <td>Argentina</td>\n",
       "      <td>01-01-2000</td>\n",
       "      <td>33.9</td>\n",
       "      <td>20.7</td>\n",
       "      <td>27.5</td>\n",
       "      <td>0.0</td>\n",
       "      <td>17.9</td>\n",
       "      <td>32.8</td>\n",
       "      <td>49047.75</td>\n",
       "    </tr>\n",
       "    <tr>\n",
       "      <th>1</th>\n",
       "      <td>Argentina</td>\n",
       "      <td>02-01-2000</td>\n",
       "      <td>32.9</td>\n",
       "      <td>22.2</td>\n",
       "      <td>27.3</td>\n",
       "      <td>0.6</td>\n",
       "      <td>23.1</td>\n",
       "      <td>43.6</td>\n",
       "      <td>48969.22</td>\n",
       "    </tr>\n",
       "    <tr>\n",
       "      <th>2</th>\n",
       "      <td>Argentina</td>\n",
       "      <td>03-01-2000</td>\n",
       "      <td>32.1</td>\n",
       "      <td>21.0</td>\n",
       "      <td>26.9</td>\n",
       "      <td>0.0</td>\n",
       "      <td>20.6</td>\n",
       "      <td>40.7</td>\n",
       "      <td>48921.57</td>\n",
       "    </tr>\n",
       "    <tr>\n",
       "      <th>3</th>\n",
       "      <td>Argentina</td>\n",
       "      <td>04-01-2000</td>\n",
       "      <td>32.2</td>\n",
       "      <td>20.9</td>\n",
       "      <td>26.7</td>\n",
       "      <td>0.0</td>\n",
       "      <td>25.1</td>\n",
       "      <td>47.2</td>\n",
       "      <td>48091.20</td>\n",
       "    </tr>\n",
       "    <tr>\n",
       "      <th>4</th>\n",
       "      <td>Argentina</td>\n",
       "      <td>05-01-2000</td>\n",
       "      <td>30.5</td>\n",
       "      <td>21.0</td>\n",
       "      <td>25.7</td>\n",
       "      <td>0.0</td>\n",
       "      <td>23.7</td>\n",
       "      <td>45.4</td>\n",
       "      <td>48922.09</td>\n",
       "    </tr>\n",
       "  </tbody>\n",
       "</table>\n",
       "</div>"
      ],
      "text/plain": [
       "     Country        Date  Temp_Max  Temp_Min  Temp_Mean  Precipitation_Sum  \\\n",
       "0  Argentina  01-01-2000      33.9      20.7       27.5                0.0   \n",
       "1  Argentina  02-01-2000      32.9      22.2       27.3                0.6   \n",
       "2  Argentina  03-01-2000      32.1      21.0       26.9                0.0   \n",
       "3  Argentina  04-01-2000      32.2      20.9       26.7                0.0   \n",
       "4  Argentina  05-01-2000      30.5      21.0       25.7                0.0   \n",
       "\n",
       "   Windspeed_Max  Windgusts_Max  Sunshine_Duration  \n",
       "0           17.9           32.8           49047.75  \n",
       "1           23.1           43.6           48969.22  \n",
       "2           20.6           40.7           48921.57  \n",
       "3           25.1           47.2           48091.20  \n",
       "4           23.7           45.4           48922.09  "
      ]
     },
     "execution_count": 15,
     "metadata": {},
     "output_type": "execute_result"
    }
   ],
   "source": [
    "df.head(5)"
   ]
  },
  {
   "cell_type": "code",
   "execution_count": 17,
   "id": "747c612f-7f9b-488b-af48-43d42441a2c0",
   "metadata": {},
   "outputs": [
    {
     "name": "stdout",
     "output_type": "stream",
     "text": [
      "<class 'pandas.core.frame.DataFrame'>\n",
      "RangeIndex: 8766 entries, 0 to 8765\n",
      "Data columns (total 9 columns):\n",
      " #   Column             Non-Null Count  Dtype  \n",
      "---  ------             --------------  -----  \n",
      " 0   Country            8766 non-null   object \n",
      " 1   Date               8766 non-null   object \n",
      " 2   Temp_Max           8766 non-null   float64\n",
      " 3   Temp_Min           8766 non-null   float64\n",
      " 4   Temp_Mean          8766 non-null   float64\n",
      " 5   Precipitation_Sum  8766 non-null   float64\n",
      " 6   Windspeed_Max      8766 non-null   float64\n",
      " 7   Windgusts_Max      8766 non-null   float64\n",
      " 8   Sunshine_Duration  8766 non-null   float64\n",
      "dtypes: float64(7), object(2)\n",
      "memory usage: 616.5+ KB\n",
      "None\n",
      "          Temp_Max     Temp_Min    Temp_Mean  Precipitation_Sum  \\\n",
      "count  8766.000000  8766.000000  8766.000000        8766.000000   \n",
      "mean     21.448517    10.953091    15.938182           1.491901   \n",
      "std       7.252082     6.082416     6.583756           5.078362   \n",
      "min       4.000000    -5.900000    -1.400000           0.000000   \n",
      "25%      15.600000     6.200000    10.600000           0.000000   \n",
      "50%      21.300000    10.800000    15.700000           0.000000   \n",
      "75%      27.100000    15.700000    21.300000           0.300000   \n",
      "max      42.700000    29.100000    35.200000          82.300000   \n",
      "\n",
      "       Windspeed_Max  Windgusts_Max  Sunshine_Duration  \n",
      "count    8766.000000    8766.000000        8766.000000  \n",
      "mean       20.689014      40.117305       34615.274984  \n",
      "std         6.114128      11.261959       12322.007295  \n",
      "min         6.200000      13.000000           0.000000  \n",
      "25%        16.300000      32.000000       30437.920000  \n",
      "50%        20.500000      39.600000       36156.110000  \n",
      "75%        24.600000      47.200000       44275.460000  \n",
      "max        50.100000      92.500000       49628.750000  \n"
     ]
    }
   ],
   "source": [
    "print(df.info())\n",
    "print(df.describe())"
   ]
  },
  {
   "cell_type": "code",
   "execution_count": 19,
   "id": "392ff261-1acc-41c9-b023-745cfb3c9fa3",
   "metadata": {},
   "outputs": [],
   "source": [
    "df['Date'] = pd.to_datetime(df['Date'], errors='coerce')"
   ]
  },
  {
   "cell_type": "code",
   "execution_count": 21,
   "id": "d9f93adc-d9c1-4774-9ba6-b375f45b65f1",
   "metadata": {},
   "outputs": [
    {
     "name": "stdout",
     "output_type": "stream",
     "text": [
      "Country                 0\n",
      "Date                 5310\n",
      "Temp_Max                0\n",
      "Temp_Min                0\n",
      "Temp_Mean               0\n",
      "Precipitation_Sum       0\n",
      "Windspeed_Max           0\n",
      "Windgusts_Max           0\n",
      "Sunshine_Duration       0\n",
      "dtype: int64\n"
     ]
    }
   ],
   "source": [
    "# Check missing values\n",
    "print(df.isnull().sum())"
   ]
  },
  {
   "cell_type": "code",
   "execution_count": 25,
   "id": "2195d2f5-abea-4d21-9604-5bd87e7f5bf1",
   "metadata": {},
   "outputs": [],
   "source": [
    "# Fill or drop missing values\n",
    "df = df.dropna() "
   ]
  },
  {
   "cell_type": "code",
   "execution_count": 31,
   "id": "3213a220-f2e8-4414-ac0a-78be33778139",
   "metadata": {},
   "outputs": [],
   "source": [
    "if 'Date' in df.columns and 'Temperature' in df.columns:\n",
    "    plt.figure(figsize=(12,6))\n",
    "    plt.plot(df['Date'], df['Temperature'], color='red')\n",
    "    plt.title(\"Temperature Trend Over Time\")\n",
    "    plt.xlabel(\"Date\")\n",
    "    plt.ylabel(\"Temperature (°C)\")\n",
    "    plt.show()"
   ]
  },
  {
   "cell_type": "code",
   "execution_count": 33,
   "id": "65cfe1fe-e224-4936-9611-fc7e2b053f48",
   "metadata": {},
   "outputs": [],
   "source": [
    "if 'Date' in df.columns and 'Rainfall' in df.columns:\n",
    "    df['Month'] = df['Date'].dt.month\n",
    "    monthly_rainfall = df.groupby('Month')['Rainfall'].mean()\n",
    "\n",
    "    plt.figure(figsize=(10,5))\n",
    "    monthly_rainfall.plot(kind='bar', color='blue')\n",
    "    plt.title(\"Average Monthly Rainfall\")\n",
    "    plt.xlabel(\"Month\")\n",
    "    plt.ylabel(\"Rainfall (mm)\")\n",
    "    plt.show()\n"
   ]
  },
  {
   "cell_type": "code",
   "execution_count": 35,
   "id": "ac5f6132-b5e9-4c02-92d4-f0d76f303168",
   "metadata": {},
   "outputs": [],
   "source": [
    "if 'WindSpeed' in df.columns and 'Rainfall' in df.columns:\n",
    "    plt.figure(figsize=(8,6))\n",
    "    sns.scatterplot(x='WindSpeed', y='Rainfall', data=df, hue='Temperature', palette=\"coolwarm\")\n",
    "    plt.title(\"Wind Speed vs Rainfall (colored by Temperature)\")\n",
    "    plt.show()\n"
   ]
  },
  {
   "cell_type": "code",
   "execution_count": 37,
   "id": "83cc4c77-e187-4d0b-b0e0-6f7124c32d21",
   "metadata": {},
   "outputs": [],
   "source": [
    "if 'Temperature' in df.columns:\n",
    "    print(\"\\nAverage Temperature:\", df['Temperature'].mean())\n",
    "    print(\"Max Temperature:\", df['Temperature'].max())\n",
    "    print(\"Min Temperature:\", df['Temperature'].min())\n",
    "\n",
    "if 'Rainfall' in df.columns:\n",
    "    print(\"\\nAverage Rainfall:\", df['Rainfall'].mean())\n",
    "    print(\"Max Rainfall:\", df['Rainfall'].max())\n",
    "    print(\"Min Rainfall:\", df['Rainfall'].min())\n",
    "\n",
    "if 'Humidity' in df.columns:\n",
    "    print(\"\\nAverage Humidity:\", df['Humidity'].mean())\n",
    "\n",
    "# Step 7: Identify Extremes\n",
    "if 'Temperature' in df.columns:\n",
    "    print(\"\\nHottest Day Record:\")\n",
    "    print(df.loc[df['Temperature'].idxmax()])\n",
    "\n",
    "if 'Rainfall' in df.columns:\n",
    "    print(\"\\nRainiest Day Record:\")\n",
    "    print(df.loc[df['Rainfall'].idxmax()])"
   ]
  },
  {
   "cell_type": "code",
   "execution_count": null,
   "id": "9688b5d8-aeab-4cb4-a19e-c1dce533a7e0",
   "metadata": {},
   "outputs": [],
   "source": []
  }
 ],
 "metadata": {
  "kernelspec": {
   "display_name": "Python 3 (ipykernel)",
   "language": "python",
   "name": "python3"
  },
  "language_info": {
   "codemirror_mode": {
    "name": "ipython",
    "version": 3
   },
   "file_extension": ".py",
   "mimetype": "text/x-python",
   "name": "python",
   "nbconvert_exporter": "python",
   "pygments_lexer": "ipython3",
   "version": "3.12.4"
  }
 },
 "nbformat": 4,
 "nbformat_minor": 5
}
